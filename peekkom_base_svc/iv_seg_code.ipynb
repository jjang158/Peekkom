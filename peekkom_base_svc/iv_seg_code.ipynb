{
  "cells": [
    {
      "cell_type": "code",
      "execution_count": null,
      "metadata": {
        "id": "Kcwq4qc-wD5e"
      },
      "outputs": [],
      "source": [
        "# 1. 데이터 다운로드 및 압축 해제\n",
        "!wget -O ivbag_seg.zip https://app.roboflow.com/ds/ZfowIIK4Qc?key=IS5NXyDmr9\n",
        "\n",
        "import zipfile\n",
        "with zipfile.ZipFile('/content/ivbag_seg.zip') as zf:\n",
        "    zf.extractall('/content/ivbag_seg/')\n",
        "\n",
        "# 2. YAML 파일 생성\n",
        "!pip install -q PyYAML\n",
        "import yaml\n",
        "\n",
        "data = {\n",
        "    'train': '/content/ivbag_seg/train/images',\n",
        "    'val': '/content/ivbag_seg/valid/images',\n",
        "    'test': '/content/ivbag_seg/test/images',\n",
        "    'names': ['iv'],  # 클래스 이름 하나\n",
        "    'nc': 1           # 클래스 수\n",
        "}\n",
        "\n",
        "with open('/content/ivbag_seg/iv.yaml', 'w') as f:\n",
        "    yaml.dump(data, f)\n",
        "\n",
        "# 3. YAML 확인\n",
        "with open('/content/ivbag_seg/iv.yaml', 'r') as f:\n",
        "    iv_yaml = yaml.safe_load(f)\n",
        "    print(iv_yaml)\n",
        "\n",
        "# 4. YOLO 설치 및 체크\n",
        "!pip install -q ultralytics\n",
        "import ultralytics\n",
        "ultralytics.checks()\n",
        "\n",
        "# 5. 세그멘테이션 모델 로드 및 학습\n",
        "from ultralytics import YOLO\n",
        "\n",
        "model = YOLO('yolov8s-seg.pt')  # 세그멘테이션용 YOLOv8s 모델 사용\n",
        "\n",
        "model.train(\n",
        "    data='/content/ivbag_seg/iv.yaml',\n",
        "    epochs=50,\n",
        "    patience=10,\n",
        "    batch=8,\n",
        "    imgsz=640,\n",
        "    name='ivbag_seg_model'  # 💡 이 이름으로 runs 폴더에 저장됨\n",
        ")\n",
        "\n",
        "# 6. 테스트 이미지 목록 확인\n",
        "from glob import glob\n",
        "\n",
        "test_image_list = glob('/content/ivbag_seg/test/images/*')\n",
        "test_image_list.sort()\n",
        "\n",
        "for i, img_path in enumerate(test_image_list):\n",
        "    print(f'i = {i}, {img_path}')\n",
        "\n",
        "# 7. 테스트 이미지 예측 (결과 자동 저장됨)\n",
        "results = model.predict(\n",
        "    source='/content/ivbag_seg/test/images/',\n",
        "    save=True\n",
        ")\n",
        "\n",
        "# 8. 모델 저장 (이름 변경해서 저장)\n",
        "model.save('/content/ivbag_iv_seg.pt')  # 원하는 이름으로 저장\n"
      ]
    }
  ],
  "metadata": {
    "colab": {
      "provenance": []
    },
    "kernelspec": {
      "display_name": "Python 3",
      "name": "python3"
    },
    "language_info": {
      "name": "python"
    }
  },
  "nbformat": 4,
  "nbformat_minor": 0
}
