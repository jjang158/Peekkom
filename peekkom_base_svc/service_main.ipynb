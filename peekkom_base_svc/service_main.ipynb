{
 "cells": [
  {
   "metadata": {},
   "cell_type": "code",
   "outputs": [],
   "execution_count": null,
   "source": "",
   "id": "a3c510a5103dc5f8"
  },
  {
   "metadata": {
    "ExecuteTime": {
     "end_time": "2025-07-01T13:54:05.230910Z",
     "start_time": "2025-07-01T13:54:05.189166Z"
    }
   },
   "cell_type": "code",
   "source": [
    "# 링거 이상시 알람 연계 function\n",
    "def ivAlarm() :\n",
    "    print('링거 이상!!')\n",
    "ivAlarm()"
   ],
   "id": "841ca6a848bdefe0",
   "outputs": [
    {
     "name": "stdout",
     "output_type": "stream",
     "text": [
      "알람 연계\n"
     ]
    }
   ],
   "execution_count": 2
  }
 ],
 "metadata": {
  "kernelspec": {
   "display_name": "Python 3",
   "language": "python",
   "name": "python3"
  },
  "language_info": {
   "codemirror_mode": {
    "name": "ipython",
    "version": 2
   },
   "file_extension": ".py",
   "mimetype": "text/x-python",
   "name": "python",
   "nbconvert_exporter": "python",
   "pygments_lexer": "ipython2",
   "version": "2.7.6"
  }
 },
 "nbformat": 4,
 "nbformat_minor": 5
}
