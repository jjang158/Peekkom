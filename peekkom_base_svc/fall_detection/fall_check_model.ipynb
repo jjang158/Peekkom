{
 "cells": [
  {
   "metadata": {},
   "cell_type": "markdown",
   "source": [
    "# 데이터 셋 불러오기\n",
    "\n",
    "- wget -O roboflow.zip \"https://universe.roboflow.com/ds/JLiDduP7RJ?key=IYezD6764T\"\n",
    "- unzip roboflow.zip -d roboflow_dataset\n"
   ],
   "id": "1c216e3c82e25ef9"
  },
  {
   "metadata": {},
   "cell_type": "code",
   "outputs": [],
   "execution_count": null,
   "source": "!pip install PyYAML",
   "id": "88cabcb83a02c316"
  },
  {
   "metadata": {
    "ExecuteTime": {
     "end_time": "2025-07-02T07:28:42.035960Z",
     "start_time": "2025-07-02T07:28:41.907549Z"
    }
   },
   "cell_type": "code",
   "source": [
    "import yaml\n",
    "\n",
    "# 디렉토리 정보, 클래스 이름(names), 클래스 수(nc) 지정하기\n",
    "data = { 'train': r'..\\..\\fall_detection_data\\train',\n",
    "        'val': r'..\\..\\fall_detection_data\\valid',\n",
    "        'test': r'..\\..\\fall_detection_data\\test',\n",
    "         'names' : ['-', 'fall', 'not_fallen'],\n",
    "         'nc' : 3 }\n",
    "\n",
    "# 데이터 경로와 클래스 정보를 저장하고 있는 딕셔너리 객체 data를 YOLOv8 학습에 필요한 새로운 이름으로 저장\n",
    "with open('./fall_detection/fall_Data.yaml', 'w') as f:\n",
    "    yaml.dump(data, f)\n"
   ],
   "id": "a15c9fccbcb5a2fc",
   "outputs": [],
   "execution_count": 3
  },
  {
   "metadata": {},
   "cell_type": "markdown",
   "source": "# 모델 학습",
   "id": "4e2576c720af2268"
  },
  {
   "metadata": {
    "collapsed": true,
    "ExecuteTime": {
     "end_time": "2025-07-02T07:11:27.154494Z",
     "start_time": "2025-07-02T07:11:20.591923Z"
    }
   },
   "cell_type": "code",
   "outputs": [],
   "execution_count": 2,
   "source": [
    "import pandas as pd\n",
    "from ultralytics import YOLO\n"
   ],
   "id": "initial_id"
  },
  {
   "metadata": {
    "ExecuteTime": {
     "end_time": "2025-07-02T07:34:22.209557Z",
     "start_time": "2025-07-02T07:34:18.730135Z"
    }
   },
   "cell_type": "code",
   "source": [
    "model = YOLO('yolov8m.pt')\n",
    "print(type(model.names), len(model.names))\n",
    "print(model.names)"
   ],
   "id": "6564f27d9ffded01",
   "outputs": [
    {
     "name": "stdout",
     "output_type": "stream",
     "text": [
      "Downloading https://github.com/ultralytics/assets/releases/download/v8.3.0/yolov8m.pt to 'yolov8m.pt'...\n"
     ]
    },
    {
     "name": "stderr",
     "output_type": "stream",
     "text": [
      "100%|██████████| 49.7M/49.7M [00:01<00:00, 45.4MB/s]\n"
     ]
    },
    {
     "name": "stdout",
     "output_type": "stream",
     "text": [
      "<class 'dict'> 80\n",
      "{0: 'person', 1: 'bicycle', 2: 'car', 3: 'motorcycle', 4: 'airplane', 5: 'bus', 6: 'train', 7: 'truck', 8: 'boat', 9: 'traffic light', 10: 'fire hydrant', 11: 'stop sign', 12: 'parking meter', 13: 'bench', 14: 'bird', 15: 'cat', 16: 'dog', 17: 'horse', 18: 'sheep', 19: 'cow', 20: 'elephant', 21: 'bear', 22: 'zebra', 23: 'giraffe', 24: 'backpack', 25: 'umbrella', 26: 'handbag', 27: 'tie', 28: 'suitcase', 29: 'frisbee', 30: 'skis', 31: 'snowboard', 32: 'sports ball', 33: 'kite', 34: 'baseball bat', 35: 'baseball glove', 36: 'skateboard', 37: 'surfboard', 38: 'tennis racket', 39: 'bottle', 40: 'wine glass', 41: 'cup', 42: 'fork', 43: 'knife', 44: 'spoon', 45: 'bowl', 46: 'banana', 47: 'apple', 48: 'sandwich', 49: 'orange', 50: 'broccoli', 51: 'carrot', 52: 'hot dog', 53: 'pizza', 54: 'donut', 55: 'cake', 56: 'chair', 57: 'couch', 58: 'potted plant', 59: 'bed', 60: 'dining table', 61: 'toilet', 62: 'tv', 63: 'laptop', 64: 'mouse', 65: 'remote', 66: 'keyboard', 67: 'cell phone', 68: 'microwave', 69: 'oven', 70: 'toaster', 71: 'sink', 72: 'refrigerator', 73: 'book', 74: 'clock', 75: 'vase', 76: 'scissors', 77: 'teddy bear', 78: 'hair drier', 79: 'toothbrush'}\n"
     ]
    }
   ],
   "execution_count": 4
  },
  {
   "metadata": {},
   "cell_type": "code",
   "outputs": [],
   "execution_count": null,
   "source": "model.train(data='./fall_Data.yaml', epochs=20, patience=3, batch=16, imgsz=640)",
   "id": "2f87e7ead57bbc0b"
  }
 ],
 "metadata": {
  "kernelspec": {
   "display_name": "Python 3",
   "language": "python",
   "name": "python3"
  },
  "language_info": {
   "codemirror_mode": {
    "name": "ipython",
    "version": 2
   },
   "file_extension": ".py",
   "mimetype": "text/x-python",
   "name": "python",
   "nbconvert_exporter": "python",
   "pygments_lexer": "ipython2",
   "version": "2.7.6"
  }
 },
 "nbformat": 4,
 "nbformat_minor": 5
}
